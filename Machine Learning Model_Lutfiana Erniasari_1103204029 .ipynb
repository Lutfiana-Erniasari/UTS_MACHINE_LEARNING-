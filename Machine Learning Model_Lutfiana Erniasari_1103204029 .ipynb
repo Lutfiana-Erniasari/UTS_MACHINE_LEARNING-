{
  "nbformat": 4,
  "nbformat_minor": 0,
  "metadata": {
    "colab": {
      "provenance": []
    },
    "kernelspec": {
      "name": "python3",
      "display_name": "Python 3"
    },
    "language_info": {
      "name": "python"
    }
  },
  "cells": [
    {
      "cell_type": "code",
      "source": [
        "# Library yang digunakan\n",
        "from sklearn.datasets import load_breast_cancer\n",
        "import numpy as np\n",
        "from matplotlib import pyplot as plt\n",
        "import seaborn as sns\n",
        "import pandas as pd\n",
        "from sklearn.tree import DecisionTreeClassifier\n",
        "from sklearn.ensemble import RandomForestClassifier\n",
        "from sklearn.semi_supervised import SelfTrainingClassifier\n",
        "from sklearn import tree\n",
        "from sklearn.model_selection import train_test_split"
      ],
      "metadata": {
        "id": "HEmSjesfwGuo"
      },
      "execution_count": null,
      "outputs": []
    },
    {
      "cell_type": "code",
      "source": [
        "#Data Collection\n",
        "#Load Data\n",
        "data = load_breast_cancer()\n",
        "\n",
        "#Show Core Information\n",
        "print('Feature   :', data.feature_names)\n",
        "print('Class     :', data.target_names)\n",
        "print('Size Data :', len(data.target))"
      ],
      "metadata": {
        "id": "xDkyXPkhwXa-"
      },
      "execution_count": null,
      "outputs": []
    },
    {
      "cell_type": "code",
      "source": [
        "# Transform ke pandas Data Frame \n",
        "df = pd.DataFrame(data.data, columns = data.feature_names)\n",
        "df['target'] = ['malignant' if target == 0 else 'benign' for target in data.target] # Tambahkan column target\n",
        "\n",
        "# Tampilkan 5 data teratas\n",
        "df.head()"
      ],
      "metadata": {
        "id": "NW20rFpXwcnx"
      },
      "execution_count": null,
      "outputs": []
    },
    {
      "cell_type": "code",
      "source": [
        "# Pisahkan data masing - masing target\n",
        "malignant = df[df['target'] == 'malignant']\n",
        "benign = df[df['target'] == 'benign']"
      ],
      "metadata": {
        "id": "HQmX33X6wgt1"
      },
      "execution_count": null,
      "outputs": []
    },
    {
      "cell_type": "code",
      "source": [
        "# Visualize banyaknya data tiap target\n",
        "sns.barplot(x = ['malignant', 'benign'], y = [len(malignant), len(benign)])\n",
        "\n",
        "plt.title('Banyaknya Data Tiap Target')\n",
        "plt.show()"
      ],
      "metadata": {
        "id": "4GgstaudwkW2"
      },
      "execution_count": null,
      "outputs": []
    },
    {
      "cell_type": "code",
      "source": [
        "#Dataset terbagi menjadi tiga bagian, [mean, error, worst]\n",
        "#Visualization beberapa feature dari masing - masing bagian\n",
        "g = sns.PairGrid(df[['mean radius', 'worst radius', 'radius error', 'target']], hue=\"target\", palette=\"Set2\", hue_kws={\"marker\": [\"o\", \"s\"]})\n",
        "g = g.map(plt.scatter, linewidths=1, edgecolor=\"w\", s=40)\n",
        "g = g.add_legend()"
      ],
      "metadata": {
        "id": "TivYoWh2wwFR"
      },
      "execution_count": null,
      "outputs": []
    },
    {
      "cell_type": "code",
      "source": [
        "sns.pairplot(df[['mean texture', 'texture error', 'worst texture', 'target']], hue='target')"
      ],
      "metadata": {
        "id": "4ZkEpgm-w2H9"
      },
      "execution_count": null,
      "outputs": []
    },
    {
      "cell_type": "code",
      "source": [
        "sns.pairplot(df[['mean fractal dimension', 'fractal dimension error', 'worst fractal dimension', 'target']], hue='target')"
      ],
      "metadata": {
        "id": "2eLmhlRZw6fE"
      },
      "execution_count": null,
      "outputs": []
    },
    {
      "cell_type": "code",
      "source": [
        "mean_column = list(df.columns[0:10])"
      ],
      "metadata": {
        "id": "lmum-n1ww9fY"
      },
      "execution_count": null,
      "outputs": []
    },
    {
      "cell_type": "code",
      "source": [
        "plt.rcParams.update({'font.size': 8})\n",
        "plot, graphs = plt.subplots(nrows=5, ncols=2, figsize=(12,14))\n",
        "graphs = graphs.flatten()\n",
        "\n",
        "for idx, graph in enumerate(graphs):\n",
        "    graph.figure\n",
        "      \n",
        "    binwidth= (max(df[mean_column[idx]]) - min(df[mean_column[idx]]))/50\n",
        "    bins = np.arange(min(df[mean_column[idx]]), max(df[mean_column[idx]]) + binwidth, binwidth)\n",
        "    graph.hist([malignant[mean_column[idx]], benign[mean_column[idx]]], bins=bins, alpha=0.6, label=['Malignant','Benign'], color=['red','blue'])\n",
        "    graph.legend(loc='upper right')\n",
        "    graph.set_title(mean_column[idx])\n",
        "plt.tight_layout()"
      ],
      "metadata": {
        "id": "fCCaW_7qxAjH"
      },
      "execution_count": null,
      "outputs": []
    },
    {
      "cell_type": "code",
      "source": [
        "error_column = list(df.columns[10:20])"
      ],
      "metadata": {
        "id": "ORAG4Qv3xDMA"
      },
      "execution_count": null,
      "outputs": []
    },
    {
      "cell_type": "code",
      "source": [
        "plt.rcParams.update({'font.size': 8})\n",
        "plot, graphs = plt.subplots(nrows=5, ncols=2, figsize=(12,14))\n",
        "graphs = graphs.flatten()\n",
        "\n",
        "for idx, graph in enumerate(graphs):\n",
        "    graph.figure\n",
        "      \n",
        "    binwidth= (max(df[error_column[idx]]) - min(df[error_column[idx]]))/50\n",
        "    bins = np.arange(min(df[error_column[idx]]), max(df[error_column[idx]]) + binwidth, binwidth)\n",
        "    graph.hist([malignant[error_column[idx]], benign[error_column[idx]]], bins=bins, alpha=0.6, label=['Malignant','Benign'], color=['red','blue'])\n",
        "    graph.legend(loc='upper right')\n",
        "    graph.set_title(error_column[idx])\n",
        "plt.tight_layout()"
      ],
      "metadata": {
        "id": "1W-RzW5DxD4-"
      },
      "execution_count": null,
      "outputs": []
    },
    {
      "cell_type": "code",
      "source": [
        "worst_column = list(df.columns[20:30])"
      ],
      "metadata": {
        "id": "5-Pf7YuaxGTt"
      },
      "execution_count": null,
      "outputs": []
    },
    {
      "cell_type": "code",
      "source": [
        "plt.rcParams.update({'font.size': 8})\n",
        "plot, graphs = plt.subplots(nrows=5, ncols=2, figsize=(12,14))\n",
        "graphs = graphs.flatten()\n",
        "\n",
        "for idx, graph in enumerate(graphs):\n",
        "    graph.figure\n",
        "      \n",
        "    binwidth= (max(df[worst_column[idx]]) - min(df[worst_column[idx]]))/50\n",
        "    bins = np.arange(min(df[worst_column[idx]]), max(df[worst_column[idx]]) + binwidth, binwidth)\n",
        "    graph.hist([malignant[worst_column[idx]], benign[worst_column[idx]]], bins=bins, alpha=0.6, label=['Malignant','Benign'], color=['red','blue'])\n",
        "    graph.legend(loc='upper right')\n",
        "    graph.set_title(worst_column[idx])\n",
        "plt.tight_layout()"
      ],
      "metadata": {
        "id": "1ZD72FsVxJ2Y"
      },
      "execution_count": null,
      "outputs": []
    },
    {
      "cell_type": "code",
      "source": [
        "# Data Preparation\n",
        "# Pisahkan features dengan targets\n",
        "x = df.iloc[:, 0:30] # features\n",
        "y = df.iloc[:, -1] # targets"
      ],
      "metadata": {
        "id": "DyKy5lGyxSX2"
      },
      "execution_count": null,
      "outputs": []
    },
    {
      "cell_type": "code",
      "source": [
        "# Split data dengan ketentuan 60% train 40% test\n",
        "x_train, x_test, y_train, y_test = train_test_split(x, y, test_size = 0.4)"
      ],
      "metadata": {
        "id": "DMMnnF52xUqc"
      },
      "execution_count": null,
      "outputs": []
    },
    {
      "cell_type": "code",
      "source": [
        "# Model\n",
        "# Decision Tree\n",
        "decision_tree = DecisionTreeClassifier(random_state = 0, max_depth = 2) # max_depth 2 paling optimal dari 3, 5, dan default\n",
        "decision_tree = decision_tree.fit(x_train, y_train) # train dtree\n",
        "tree.plot_tree(decision_tree) # plot dtree"
      ],
      "metadata": {
        "id": "bbufKmDtxak0"
      },
      "execution_count": null,
      "outputs": []
    },
    {
      "cell_type": "code",
      "source": [
        "# Hitung score akurasi\n",
        "score = decision_tree.score(x_test, y_test)\n",
        "print('Akurasi :',score)"
      ],
      "metadata": {
        "id": "OQOGxhZXxdK4"
      },
      "execution_count": null,
      "outputs": []
    },
    {
      "cell_type": "code",
      "source": [
        "# Random Forest\n",
        "random_forest = RandomForestClassifier(random_state = 0, max_depth = 4) # Optimal di max_depth 4 \n",
        "random_forest.fit(x_train, y_train)"
      ],
      "metadata": {
        "id": "bQXK2cmIxg6L"
      },
      "execution_count": null,
      "outputs": []
    },
    {
      "cell_type": "code",
      "source": [
        "# Hitung score akurasi\n",
        "score = random_forest.score(x_test, y_test)\n",
        "print('Akurasi :',score)"
      ],
      "metadata": {
        "id": "FHZHdHaRxqwx"
      },
      "execution_count": null,
      "outputs": []
    },
    {
      "cell_type": "code",
      "source": [
        "# Self Training \n",
        "svc = DecisionTreeClassifier(random_state = 0, max_depth = 2)\n",
        "self_training = SelfTrainingClassifier(svc)\n",
        "self_training.fit(x_train, y_train)"
      ],
      "metadata": {
        "id": "o7Ar6ajkxspM"
      },
      "execution_count": null,
      "outputs": []
    },
    {
      "cell_type": "code",
      "source": [
        "# Hitung score akurasi\n",
        "score = self_training.score(x_test, y_test)\n",
        "print('Akurasi :',score)"
      ],
      "metadata": {
        "id": "GT-TLGJt3zgf"
      },
      "execution_count": null,
      "outputs": []
    }
  ]
}